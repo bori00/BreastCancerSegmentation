version https://git-lfs.github.com/spec/v1
oid sha256:0d6cd9ed03bcc0376ee95e62d0b89c4b5145382d5e1999cb3be726704f666f18
size 150175784
